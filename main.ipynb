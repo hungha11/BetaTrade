{
 "cells": [
  {
   "cell_type": "markdown",
   "id": "5fcefc4c",
   "metadata": {},
   "source": [
    "# Beta trade - Trend optimizer\n",
    "\n",
    "Different stock has different beta. Hence, with an appropriate method and optimization algorithm, we can determine the portfolio's beta and follow the market with suitable exposure to the market.\n"
   ]
  },
  {
   "cell_type": "markdown",
   "id": "3ee95b51",
   "metadata": {},
   "source": [
    "\n",
    "## Stage 1: Data colltion and beta calculation\n",
    "\n",
    "### Stock beta\n",
    "$$\n",
    "\\beta_{stock} = \\frac{Cov(R_i,R_m)}{Var(R_m)}\\\\\n",
    "$$\n",
    "### Portfolio beta\n",
    "$$\n",
    "\\beta_{portfolio} = \\sum_{n=1}^{i} \\beta_{i}  Weight_i\n",
    "$$"
   ]
  },
  {
   "cell_type": "code",
   "execution_count": null,
   "id": "651b4602",
   "metadata": {},
   "outputs": [],
   "source": []
  },
  {
   "cell_type": "markdown",
   "id": "5b69285d",
   "metadata": {},
   "source": [
    "## Stage 2: Portfolio beta forming and optimization\n",
    "\n",
    "\n",
    "\n",
    "### Portfolio beta forming\n",
    "Provide different combination of stock to achiec\n",
    "\n",
    "\n",
    "### Portfolio optimization\n",
    "There are many method for portfolio optimization. Beginning with Markowitz Efficient Frontier"
   ]
  },
  {
   "cell_type": "code",
   "execution_count": null,
   "id": "b8168b23",
   "metadata": {},
   "outputs": [],
   "source": []
  },
  {
   "cell_type": "markdown",
   "id": "816168b2",
   "metadata": {},
   "source": [
    "## Stage 3: Backtesting"
   ]
  },
  {
   "cell_type": "code",
   "execution_count": null,
   "id": "07ee169f",
   "metadata": {},
   "outputs": [],
   "source": []
  }
 ],
 "metadata": {
  "kernelspec": {
   "display_name": "Python 3 (ipykernel)",
   "language": "python",
   "name": "python3"
  },
  "language_info": {
   "codemirror_mode": {
    "name": "ipython",
    "version": 3
   },
   "file_extension": ".py",
   "mimetype": "text/x-python",
   "name": "python",
   "nbconvert_exporter": "python",
   "pygments_lexer": "ipython3",
   "version": "3.8.13"
  }
 },
 "nbformat": 4,
 "nbformat_minor": 5
}
